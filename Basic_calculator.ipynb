{
  "nbformat": 4,
  "nbformat_minor": 0,
  "metadata": {
    "colab": {
      "name": "Basic calculator.ipynb",
      "provenance": [],
      "collapsed_sections": [],
      "authorship_tag": "ABX9TyOdTvWH0MPjRg1SAkVtVh6X",
      "include_colab_link": true
    },
    "kernelspec": {
      "name": "python3",
      "display_name": "Python 3"
    },
    "language_info": {
      "name": "python"
    }
  },
  "cells": [
    {
      "cell_type": "markdown",
      "metadata": {
        "id": "view-in-github",
        "colab_type": "text"
      },
      "source": [
        "<a href=\"https://colab.research.google.com/github/a23ankit/In_Class_assignment_PPT1/blob/main/Basic_calculator.ipynb\" target=\"_parent\"><img src=\"https://colab.research.google.com/assets/colab-badge.svg\" alt=\"Open In Colab\"/></a>"
      ]
    },
    {
      "cell_type": "code",
      "metadata": {
        "id": "ejMJ3VEIZ_Km",
        "colab": {
          "base_uri": "https://localhost:8080/"
        },
        "outputId": "ab6aedfb-849a-49f1-cda5-927567b9a7a8"
      },
      "source": [
        "number_1, number_2 = map(float,input(\"Please Enter the first and second number using space:\").split(\" \"))\n",
        "addition = number_1 + number_2\n",
        "subtraction = number_1 - number_2\n",
        "multiplication = number_1 * number_2\n",
        "division = number_1 / number_2\n",
        "mean = (number_1 + number_2)/2\n",
        "print(f\"Addition of {number_1} and {number_2} is {addition}\")\n",
        "print(f\"Subtraction of {number_1} and {number_2} is {subtraction}\")\n",
        "print(f\"Multiplication of {number_1} and {number_2} is {multiplication}\")\n",
        "print(f\"Division of {number_1} and {number_2} is {division}\")\n",
        "print(f\"Mean of {number_1} and {number_2} is {mean}\")"
      ],
      "execution_count": null,
      "outputs": [
        {
          "output_type": "stream",
          "name": "stdout",
          "text": [
            "Please Enter the first and second number using space:200 50\n",
            "Addition of 200.0 and 50.0 is 250.0\n",
            "Subtraction of 200.0 and 50.0 is 150.0\n",
            "Multiplication of 200.0 and 50.0 is 10000.0\n",
            "Division of 200.0 and 50.0 is 4.0\n",
            "Mean of 200.0 and 50.0 is 125.0\n"
          ]
        }
      ]
    }
  ]
}