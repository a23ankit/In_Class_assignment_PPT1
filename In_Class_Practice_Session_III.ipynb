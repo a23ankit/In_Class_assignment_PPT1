{
  "nbformat": 4,
  "nbformat_minor": 0,
  "metadata": {
    "colab": {
      "name": "In-Class Practice Session-III.ipynb",
      "provenance": [],
      "collapsed_sections": [],
      "authorship_tag": "ABX9TyMyUCcFbb15mnvCWPRH2miT",
      "include_colab_link": true
    },
    "kernelspec": {
      "name": "python3",
      "display_name": "Python 3"
    },
    "language_info": {
      "name": "python"
    }
  },
  "cells": [
    {
      "cell_type": "markdown",
      "metadata": {
        "id": "view-in-github",
        "colab_type": "text"
      },
      "source": [
        "<a href=\"https://colab.research.google.com/github/a23ankit/In_Class_assignment_PPT1/blob/main/In_Class_Practice_Session_III.ipynb\" target=\"_parent\"><img src=\"https://colab.research.google.com/assets/colab-badge.svg\" alt=\"Open In Colab\"/></a>"
      ]
    },
    {
      "cell_type": "code",
      "metadata": {
        "id": "2oU3GoWw8BTo"
      },
      "source": [
        "# Q1 WAP to check if the given number is a palindrome.\n",
        "\n",
        "def is_palindrome():\n",
        "  word = input(\"Please enter the string to check palindrome:\")\n",
        "  word_rev = reversed(word)\n",
        "  if list(word) == list(word_rev):\n",
        "    print(f\" 'Yes' {word} is an palindrome\")\n",
        "  else:\n",
        "    print(f\" 'NO' {word} is an palindrome\")\n",
        "\n"
      ],
      "execution_count": null,
      "outputs": []
    },
    {
      "cell_type": "code",
      "metadata": {
        "id": "iiAlMm--AbIc",
        "colab": {
          "base_uri": "https://localhost:8080/"
        },
        "outputId": "38094ea7-3c9d-4205-9f36-d9151d5de57c"
      },
      "source": [
        "is_palindrome()"
      ],
      "execution_count": null,
      "outputs": [
        {
          "output_type": "stream",
          "name": "stdout",
          "text": [
            "Please enter the string to check palindrome:anna\n",
            " 'Yes' anna is an palindrome\n"
          ]
        }
      ]
    },
    {
      "cell_type": "code",
      "metadata": {
        "colab": {
          "base_uri": "https://localhost:8080/"
        },
        "id": "wk6Yc_XX3NNO",
        "outputId": "5782d9e1-cb9c-46ba-98e5-64ac977f2918"
      },
      "source": [
        "# Q2 WAP to print the multiplication table of the given number\n",
        "\n",
        "x = int(input(\"Write the table of: \"))\n",
        "\n",
        "for i in range(1,11):\n",
        "  print(f\"{x} * {i} = \",(x*i))"
      ],
      "execution_count": null,
      "outputs": [
        {
          "output_type": "stream",
          "name": "stdout",
          "text": [
            "Write the table of: 19\n",
            "19 * 1 =  19\n",
            "19 * 2 =  38\n",
            "19 * 3 =  57\n",
            "19 * 4 =  76\n",
            "19 * 5 =  95\n",
            "19 * 6 =  114\n",
            "19 * 7 =  133\n",
            "19 * 8 =  152\n",
            "19 * 9 =  171\n",
            "19 * 10 =  190\n"
          ]
        }
      ]
    },
    {
      "cell_type": "code",
      "metadata": {
        "colab": {
          "base_uri": "https://localhost:8080/"
        },
        "id": "moYIdL05_uPg",
        "outputId": "e03c2784-44ba-41f6-f099-e29b35caba3c"
      },
      "source": [
        "# Q3 WAP to take to lists of numbers from the user and create a new list such that it contain odd numbers frrom the first list and even number from second list.\n",
        "\n",
        "list1 = []\n",
        "n = int(input(\"Number of element as input: \"))\n",
        "for i in range(n):\n",
        "  element = int(input(\"type element one by one: \"))\n",
        "  list1.append(element)\n",
        "\n",
        "even_number = []\n",
        "odd_number = []\n",
        "\n",
        "for i in list1:\n",
        "  if i%2==0:\n",
        "    even_number.append(i)\n",
        "  else:\n",
        "    odd_number.append(i)\n",
        "\n",
        "print(\"Total element entered in list:\", list1)\n",
        "print(\"Even number from the element entered:\", even_number)\n",
        "print(\"Odd number from the element entered:\", odd_number)"
      ],
      "execution_count": null,
      "outputs": [
        {
          "output_type": "stream",
          "name": "stdout",
          "text": [
            "number of element as input: 3\n",
            "type element one by one: 1\n",
            "type element one by one: 2\n",
            "type element one by one: 3\n",
            "Total element entered in list [1, 2, 3]\n",
            "Even number from the element entered [2]\n",
            "Odd number from the element entered [1, 3]\n"
          ]
        }
      ]
    },
    {
      "cell_type": "code",
      "metadata": {
        "colab": {
          "base_uri": "https://localhost:8080/"
        },
        "id": "mfx97PjG_uMP",
        "outputId": "cad2ed51-0869-4811-b6e0-75309bca1461"
      },
      "source": [
        "# Q4 WAP to take the two matrix (2x2) input from the user and perform matrix multiplication.\n",
        "\n",
        "x = [[2,3],\n",
        "    [4,5]]\n",
        "y = [[1,0],\n",
        "    [2,1]]\n",
        "result =[[0,0],\n",
        "        [0,0]] \n",
        "for i in range(len(x)):\n",
        "  for j in range(len(y[0])):\n",
        "    for k in range(len(y)):\n",
        "      result[i][j] += x[i][k] * y[k][j]\n",
        "for r in result:\n",
        "  print(r)\n"
      ],
      "execution_count": null,
      "outputs": [
        {
          "output_type": "stream",
          "name": "stdout",
          "text": [
            "[8, 3]\n",
            "[14, 5]\n"
          ]
        }
      ]
    },
    {
      "cell_type": "code",
      "metadata": {
        "id": "9roaCfKw_uJG",
        "colab": {
          "base_uri": "https://localhost:8080/"
        },
        "outputId": "45afaa76-ee21-4210-c0e6-6a50c9752b32"
      },
      "source": [
        "# Q4 WAP to take the two matrix (2x2) input from the user and perform matrix multiplication.\n",
        "mat1 = []\n",
        "mat2 = []\n",
        "\n",
        "result = [[0, 0],[0, 0]]\n",
        "\n",
        "print(\"Enter matrix1, row-wise\")\n",
        "\n",
        "# Create row for the number of rows\n",
        "for i in range(2):\n",
        "  row = []\n",
        "  # input elements for each rows for the number of columns\n",
        "  for j in range(2):\n",
        "    row.append(int(input()))\n",
        "  #Enter each rows to matrix\n",
        "  mat1.append(row)\n",
        "\n",
        "print(\"Enter matrix2, row-wise\")\n",
        "\n",
        "# Create row for the number of rows\n",
        "for i in range(2):\n",
        "  row = []\n",
        "  # input elements for each rows for the number of columns\n",
        "  for j in range(2):\n",
        "    row.append(int(input()))\n",
        "  #Enter each rows to matrix\n",
        "  mat2.append(row)\n",
        "\n",
        "\n",
        "\n",
        "for i in range(2):\n",
        "  for j in range(2):\n",
        "    for k in range(2):\n",
        "      result[i][j] += mat1[i][k] * mat2[k][j]\n",
        "\n",
        "print(f\"matrix1 = {mat1}\")\n",
        "print(f\"matrix2 = {mat2}\")\n",
        "print(f\"Result = {result}\")\n"
      ],
      "execution_count": null,
      "outputs": [
        {
          "output_type": "stream",
          "name": "stdout",
          "text": [
            "Enter matrix1, row-wise\n",
            "1\n",
            "2\n",
            "3\n",
            "4\n",
            "Enter matrix2, row-wise\n",
            "4\n",
            "3\n",
            "2\n",
            "1\n",
            "matrix1 = [[1, 2], [3, 4]]\n",
            "matrix2 = [[4, 3], [2, 1]]\n",
            "Result = [[8, 5], [20, 13]]\n"
          ]
        }
      ]
    },
    {
      "cell_type": "code",
      "metadata": {
        "id": "Bd3uJ-EV_uFr"
      },
      "source": [
        ""
      ],
      "execution_count": null,
      "outputs": []
    },
    {
      "cell_type": "code",
      "metadata": {
        "id": "LwY-RLRv_uBx"
      },
      "source": [
        ""
      ],
      "execution_count": null,
      "outputs": []
    }
  ]
}