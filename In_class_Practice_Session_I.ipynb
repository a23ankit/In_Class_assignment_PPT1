{
  "nbformat": 4,
  "nbformat_minor": 0,
  "metadata": {
    "colab": {
      "name": "In class Practice Session - I",
      "provenance": [],
      "collapsed_sections": [],
      "authorship_tag": "ABX9TyNfy1fcbQW916Ms3gtFy7sV",
      "include_colab_link": true
    },
    "kernelspec": {
      "name": "python3",
      "display_name": "Python 3"
    },
    "language_info": {
      "name": "python"
    }
  },
  "cells": [
    {
      "cell_type": "markdown",
      "metadata": {
        "id": "view-in-github",
        "colab_type": "text"
      },
      "source": [
        "<a href=\"https://colab.research.google.com/github/a23ankit/In_Class_assignment_PPT1/blob/main/In_class_Practice_Session_I.ipynb\" target=\"_parent\"><img src=\"https://colab.research.google.com/assets/colab-badge.svg\" alt=\"Open In Colab\"/></a>"
      ]
    },
    {
      "cell_type": "code",
      "metadata": {
        "colab": {
          "base_uri": "https://localhost:8080/"
        },
        "id": "8EHmfvwbjeHA",
        "outputId": "0ecf3e8e-31be-4ac3-e60f-aaf4a5751205"
      },
      "source": [
        "# Q1 WAP to print the multiplication table of 10 by input\n",
        "x = float(input(\"Write the table of:\"))\n",
        "for i in range(1,11):\n",
        "  print(f\"{x} * {i}\" ,\"=\" ,(x*i))"
      ],
      "execution_count": null,
      "outputs": [
        {
          "output_type": "stream",
          "name": "stdout",
          "text": [
            "Write the table of:10\n",
            "10.0 * 1 = 10.0\n",
            "10.0 * 2 = 20.0\n",
            "10.0 * 3 = 30.0\n",
            "10.0 * 4 = 40.0\n",
            "10.0 * 5 = 50.0\n",
            "10.0 * 6 = 60.0\n",
            "10.0 * 7 = 70.0\n",
            "10.0 * 8 = 80.0\n",
            "10.0 * 9 = 90.0\n",
            "10.0 * 10 = 100.0\n"
          ]
        }
      ]
    },
    {
      "cell_type": "code",
      "metadata": {
        "colab": {
          "base_uri": "https://localhost:8080/"
        },
        "id": "c7rMiy_OoDTn",
        "outputId": "dc607bb0-353f-4ffb-d983-62c5ad7b9a4a"
      },
      "source": [
        "# Q2 WAP to swap two variable of user's choice\n",
        "a = 10\n",
        "print (f\"Orignal vallue of a is {a} \")\n",
        "b = 20\n",
        "print (f\"Orignal vallue of b is {b} \")\n",
        "c = a + b\n",
        "a = c - a\n",
        "b = c - b \n",
        "print(f\"After swaping value of a is {a}\")\n",
        "print(f\"After swaping value of b is {b}\")"
      ],
      "execution_count": null,
      "outputs": [
        {
          "output_type": "stream",
          "name": "stdout",
          "text": [
            "Orignal vallue of a is 10 \n",
            "Orignal vallue of b is 20 \n",
            "After swaping value of a is 20\n",
            "After swaping value of b is 10\n"
          ]
        }
      ]
    },
    {
      "cell_type": "code",
      "metadata": {
        "colab": {
          "base_uri": "https://localhost:8080/"
        },
        "id": "MDzSMamblfoN",
        "outputId": "46a6f894-d7c3-4e87-d46d-f3c9b5337050"
      },
      "source": [
        "# Q3 WAP to swap two variable of user's choice by addition - substraction\n",
        "a = 10\n",
        "print (f\"Orignal vallue of a is {a} \")\n",
        "b = 20\n",
        "print (f\"Orignal vallue of b is {b} \")\n",
        "a = a + b\n",
        "b = a - b\n",
        "a = a - b\n",
        "print(f\"After swaping value of a is {a}\")\n",
        "print(f\"After swaping value of b is {b}\")"
      ],
      "execution_count": null,
      "outputs": [
        {
          "output_type": "stream",
          "name": "stdout",
          "text": [
            "Orignal vallue of a is 10 \n",
            "Orignal vallue of b is 20 \n",
            "After swaping value of a is 20\n",
            "After swaping value of b is 10\n"
          ]
        }
      ]
    },
    {
      "cell_type": "code",
      "metadata": {
        "colab": {
          "base_uri": "https://localhost:8080/"
        },
        "id": "8Co7DpiNn31o",
        "outputId": "bfa902a3-cf36-4c81-8fdb-b0d7bccee1f5"
      },
      "source": [
        "# Q3 WAP to swap two variable of user's choice by multiplication - division\n",
        "a = 10\n",
        "print (f\"Orignal vallue of a is {a} \")\n",
        "b = 20\n",
        "print (f\"Orignal vallue of b is {b} \")\n",
        "a = a * b\n",
        "b = a / b\n",
        "a = a / b\n",
        "print(f\"After swaping value of a is {a}\")\n",
        "print(f\"After swaping value of b is {b}\")"
      ],
      "execution_count": null,
      "outputs": [
        {
          "output_type": "stream",
          "name": "stdout",
          "text": [
            "Orignal vallue of a is 10 \n",
            "Orignal vallue of b is 20 \n",
            "After swaping value of a is 20.0\n",
            "After swaping value of b is 10.0\n"
          ]
        }
      ]
    },
    {
      "cell_type": "code",
      "metadata": {
        "colab": {
          "base_uri": "https://localhost:8080/"
        },
        "id": "M2Mf1y17o95w",
        "outputId": "fe47679c-8c40-4aeb-f62d-8c420165c548"
      },
      "source": [
        "# Q3 WAP to swap two variable of user's choice by using XOR\n",
        "a = 10\n",
        "print (f\"Orignal vallue of a is {a} \")\n",
        "b = 20\n",
        "print (f\"Orignal vallue of b is {b} \")\n",
        "a = a ^ b\n",
        "b = a ^ b\n",
        "a = a ^ b\n",
        "print(f\"After swaping value of a is {a}\")\n",
        "print(f\"After swaping value of b is {b}\")"
      ],
      "execution_count": null,
      "outputs": [
        {
          "output_type": "stream",
          "name": "stdout",
          "text": [
            "Orignal vallue of a is 10 \n",
            "Orignal vallue of b is 20 \n",
            "After swaping value of a is 20\n",
            "After swaping value of b is 10\n"
          ]
        }
      ]
    }
  ]
}