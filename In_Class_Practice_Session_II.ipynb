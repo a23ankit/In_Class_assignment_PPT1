{
  "nbformat": 4,
  "nbformat_minor": 0,
  "metadata": {
    "colab": {
      "name": "In-Class Practice Session-II.ipynb",
      "provenance": [],
      "collapsed_sections": [],
      "authorship_tag": "ABX9TyMVa6q2mQc5mECLb4cVP7Cg",
      "include_colab_link": true
    },
    "kernelspec": {
      "name": "python3",
      "display_name": "Python 3"
    },
    "language_info": {
      "name": "python"
    }
  },
  "cells": [
    {
      "cell_type": "markdown",
      "metadata": {
        "id": "view-in-github",
        "colab_type": "text"
      },
      "source": [
        "<a href=\"https://colab.research.google.com/github/a23ankit/In_Class_assignment_PPT1/blob/main/In_Class_Practice_Session_II.ipynb\" target=\"_parent\"><img src=\"https://colab.research.google.com/assets/colab-badge.svg\" alt=\"Open In Colab\"/></a>"
      ]
    },
    {
      "cell_type": "code",
      "metadata": {
        "colab": {
          "base_uri": "https://localhost:8080/"
        },
        "id": "XSUKmJqZq5s2",
        "outputId": "32ec9a1a-8677-40ed-cd3e-ac772df9aaea"
      },
      "source": [
        "# Q1 WAP print to check if the number enterd by user is even or odd.\n",
        "x = int(input(\"Please enter the number:\"))\n",
        "if x%2==0:\n",
        "  print(f\"Input number {x} is even number\")\n",
        "else:\n",
        "  print(f\"Input number {x} is odd number\")"
      ],
      "execution_count": null,
      "outputs": [
        {
          "output_type": "stream",
          "name": "stdout",
          "text": [
            "Please enter the number:12\n",
            "Input number 12 is even number\n"
          ]
        }
      ]
    },
    {
      "cell_type": "code",
      "metadata": {
        "colab": {
          "base_uri": "https://localhost:8080/"
        },
        "id": "qXai62lAsI3R",
        "outputId": "a1f3e56d-397e-473b-818d-fd9d9aaea7c6"
      },
      "source": [
        "# Q2 WAP using shorthand if else to check  which of the two numbers is grater.\n",
        "x,y = map(int,input(\"Please enter the numbers using space\").split(\" \"))\n",
        "if x < y:\n",
        "  print (f\"Number {y} is greater than number {x}\")\n",
        "elif x == y:\n",
        "  print (f\"Number {x} is equal to number {y}\")\n",
        "else:\n",
        "  print (f\"Number {y} is less than number {x}\")"
      ],
      "execution_count": null,
      "outputs": [
        {
          "output_type": "stream",
          "name": "stdout",
          "text": [
            "Please enter the numbers using space122 12\n",
            "Number 12 is less than number 122\n"
          ]
        }
      ]
    },
    {
      "cell_type": "code",
      "metadata": {
        "colab": {
          "base_uri": "https://localhost:8080/"
        },
        "id": "dEXniyESsI7-",
        "outputId": "431221ca-42e5-4f57-dc97-82be4d085b44"
      },
      "source": [
        "# Q3 A shopkeepr gives a discount of 10% if the cost of the purchase quantity is more than 1000. WAP to ask the user for quantity.\n",
        "# considering one unit cost is 100. calculate the totalcost to be paidby the user.\n",
        "\n",
        "\n",
        "quantity = int(input(\"Please enter product quantity you want to purchase:\"))\n",
        "cost_per_unit = 100\n",
        "if (quantity*cost_per_unit) > 1000:\n",
        "  print(\"Total amount payble is:\",(quantity*cost_per_unit)*.9 ) # 10% off \n",
        "else:\n",
        "  print(\"Total amount payble is:\",(quantity*cost_per_unit) )"
      ],
      "execution_count": null,
      "outputs": [
        {
          "output_type": "stream",
          "name": "stdout",
          "text": [
            "Please enter product quantity you want to purchase:12\n",
            "Total amount payble is: 1080.0\n"
          ]
        }
      ]
    },
    {
      "cell_type": "code",
      "metadata": {
        "colab": {
          "base_uri": "https://localhost:8080/"
        },
        "id": "PV9XY6MIsJMA",
        "outputId": "bc61e1b7-0c09-41a5-8b88-175c1d951312"
      },
      "source": [
        "# Q4 A school has the following rules for grading system:\n",
        "#a. below 25 - f, b. 25 to 45 - E, c. 45 to 60 - D, d. 50 to 60 - C, e. 60 to 80 -B, f. Above 80 - A\n",
        "# Ask the  user to enter the marks and print the corresponding grade.\n",
        "\n",
        "marks = float(input(\"Please enter the obtain marks to know your grade:\"))\n",
        "if marks >= 80:\n",
        "  print(\"You have earned 'A' Grade\")\n",
        "elif 60 <= marks < 80:\n",
        "  print(\"You have earned 'B' Grade\")\n",
        "elif 50 <= marks < 60:\n",
        "  print(\"You have earned 'C' Grade\")\n",
        "elif 45 <= marks < 50:\n",
        "  print(\"You have earned 'D' Grade\")\n",
        "elif 25 <= marks < 45:\n",
        "  print(\"You have earned 'E' Grade\")\n",
        "elif marks < 25:\n",
        "  print(\"You have earned 'F' Grade\")"
      ],
      "execution_count": null,
      "outputs": [
        {
          "output_type": "stream",
          "name": "stdout",
          "text": [
            "Please enter the obtain marks to know your grade:80\n",
            "You have earned 'A' Grade\n"
          ]
        }
      ]
    },
    {
      "cell_type": "code",
      "metadata": {
        "id": "DZc-nDkcsJO9"
      },
      "source": [
        ""
      ],
      "execution_count": null,
      "outputs": []
    },
    {
      "cell_type": "code",
      "metadata": {
        "id": "d5K26igXsJSM"
      },
      "source": [
        ""
      ],
      "execution_count": null,
      "outputs": []
    },
    {
      "cell_type": "code",
      "metadata": {
        "id": "tZYyl0TXsJVi"
      },
      "source": [
        ""
      ],
      "execution_count": null,
      "outputs": []
    }
  ]
}